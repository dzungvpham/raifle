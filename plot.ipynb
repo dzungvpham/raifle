{
 "cells": [
  {
   "cell_type": "code",
   "execution_count": 86,
   "metadata": {},
   "outputs": [],
   "source": [
    "import matplotlib.lines as mlines\n",
    "import matplotlib.pyplot as plt\n",
    "import pandas as pd"
   ]
  },
  {
   "cell_type": "code",
   "execution_count": 3,
   "metadata": {},
   "outputs": [],
   "source": [
    "ltr_MQ2007 = pd.read_csv(\"../output/ltr_MQ2007_metrics.csv\")\n",
    "ltr_MQ2008 = pd.read_csv(\"../output/ltr_MQ2008_metrics.csv\")\n",
    "ltr_MSLR10K = pd.read_csv(\"../output/ltr_MSLR10K_metrics.csv\")\n",
    "ltr_MSLR30K = pd.read_csv(\"../output/ltr_MSLR30K_metrics.csv\")"
   ]
  },
  {
   "cell_type": "code",
   "execution_count": null,
   "metadata": {},
   "outputs": [],
   "source": [
    "datasets = {\"MQ2007\": ltr_MQ2007, \"MSLR-WEB10K\": ltr_MSLR10K}\n",
    "linestyle = {\"linear\": \"-\", \"neural\": \"--\"}\n",
    "marker = {\"informational\": \"o\", \"navigational\": \"^\"}\n",
    "color = {\"MQ2007\": \"#ff7f0e\", \"MSLR-WEB10K\": \"#1f77b4\"}\n",
    "\n",
    "for dataset_name, df in datasets.items():\n",
    "    df = df[[\"name\", \"auc\"]].groupby(\"name\").describe()\n",
    "    df.columns = df.columns.droplevel()\n",
    "\n",
    "    df[\"query\"] = df.index.map(lambda x: int(x.split(\"_\")[x.split(\"_\").index(\"query\") - 1])).values\n",
    "    df[\"click_model\"] = df.index.map(lambda x: x.split(\"_\")[x.split(\"_\").index(\"query\") - 2]).values\n",
    "    df[\"model\"] = df.index.map(lambda x: x.split(\"_\")[0]).values\n",
    "    df[\"data\"] = dataset_name\n",
    "\n",
    "    df = df[df.index.str.contains(\"eps_inf\")]\n",
    "    df = df[df[\"query\"] <= 16]\n",
    "    df = df[df[\"model\"] != \"random\"]\n",
    "\n",
    "    df = df[[\"mean\", \"query\", \"model\", \"click_model\", \"data\"]].reset_index(drop=True)\n",
    "\n",
    "    for model in [\"linear\", \"neural\"]:\n",
    "        for click_model in [\"informational\", \"navigational\"]:\n",
    "            line_df = df[(df[\"model\"] == model) & (df[\"click_model\"] == click_model)].sort_values(by=[\"query\"])\n",
    "            plt.plot(line_df[\"query\"].astype(str).tolist(), line_df[\"mean\"].tolist(), linestyle=linestyle[model], marker=marker[click_model], color=color[dataset_name], label=f\"{dataset_name}: {model} + {click_model}\")\n",
    "\n",
    "plt.xlabel('Number of queries')\n",
    "plt.ylabel('Mean AUC')\n",
    "plt.tight_layout()\n",
    "\n",
    "legend_entries = []\n",
    "for label, value in linestyle.items():\n",
    "    legend_entries.append(mlines.Line2D([], [], color='black', linestyle=value, label=label))\n",
    "for label, value in marker.items():\n",
    "    legend_entries.append(mlines.Line2D([], [], color='black', marker=value, label=label))\n",
    "for label, value in color.items():\n",
    "    legend_entries.append(mlines.Line2D([], [], color=value, label=label))\n",
    "plt.legend(handles=legend_entries)\n",
    "\n",
    "plt.savefig(\"../plots/plain_metrics.pdf\", bbox_inches='tight')\n",
    "plt.show()\n"
   ]
  }
 ],
 "metadata": {
  "kernelspec": {
   "display_name": "Python 3",
   "language": "python",
   "name": "python3"
  },
  "language_info": {
   "codemirror_mode": {
    "name": "ipython",
    "version": 3
   },
   "file_extension": ".py",
   "mimetype": "text/x-python",
   "name": "python",
   "nbconvert_exporter": "python",
   "pygments_lexer": "ipython3",
   "version": "3.10.7"
  },
  "orig_nbformat": 4
 },
 "nbformat": 4,
 "nbformat_minor": 2
}
